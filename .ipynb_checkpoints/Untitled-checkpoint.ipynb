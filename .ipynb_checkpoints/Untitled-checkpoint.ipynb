{
 "cells": [
  {
   "cell_type": "code",
   "execution_count": 4,
   "id": "94ddeacb",
   "metadata": {},
   "outputs": [],
   "source": [
    "#LOAD LIBRARIES\n",
    "import pandas as pd"
   ]
  },
  {
   "cell_type": "code",
   "execution_count": 5,
   "id": "e9465b2a",
   "metadata": {},
   "outputs": [
    {
     "name": "stdout",
     "output_type": "stream",
     "text": [
      "         index  device_address  temperature  message_sequence_number  \\\n",
      "0            0      4278274346    18.445312                   214211   \n",
      "1            1           52495    13.500000                   277772   \n",
      "2            2      4278274346    18.445312                   214212   \n",
      "3            3      4278274346    18.445312                   214213   \n",
      "4            4           48553    11.875000                   196032   \n",
      "...        ...             ...          ...                      ...   \n",
      "696360  897935           48563    21.375000                   191113   \n",
      "696361  897936           48524    21.062500                   200519   \n",
      "696362  897937           48578    21.125000                   201632   \n",
      "696363  897938           48563    21.375000                   191114   \n",
      "696364  897939           48524    21.062500                   200520   \n",
      "\n",
      "           timestamp  light_level  \n",
      "0       1.667776e+09            0  \n",
      "1       1.667776e+09            0  \n",
      "2       1.667776e+09            0  \n",
      "3       1.667776e+09            0  \n",
      "4       1.667776e+09            0  \n",
      "...              ...          ...  \n",
      "696360  1.668034e+09            0  \n",
      "696361  1.668034e+09            0  \n",
      "696362  1.668034e+09            0  \n",
      "696363  1.668035e+09            0  \n",
      "696364  1.668035e+09            0  \n",
      "\n",
      "[696365 rows x 6 columns]\n"
     ]
    }
   ],
   "source": [
    "#LOAD dataset\n",
    "df = pd.read_csv(r'temperature_table.csv')\n",
    "print(df)"
   ]
  },
  {
   "cell_type": "code",
   "execution_count": 6,
   "id": "7d2e4339",
   "metadata": {},
   "outputs": [
    {
     "ename": "AttributeError",
     "evalue": "'RangeIndex' object has no attribute 'index'",
     "output_type": "error",
     "traceback": [
      "\u001b[1;31m---------------------------------------------------------------------------\u001b[0m",
      "\u001b[1;31mAttributeError\u001b[0m                            Traceback (most recent call last)",
      "\u001b[1;32m<ipython-input-6-4c8be4a4968b>\u001b[0m in \u001b[0;36m<module>\u001b[1;34m\u001b[0m\n\u001b[1;32m----> 1\u001b[1;33m \u001b[0mdf\u001b[0m\u001b[1;33m.\u001b[0m\u001b[0mgroupby\u001b[0m\u001b[1;33m(\u001b[0m\u001b[1;33m[\u001b[0m\u001b[0mdf\u001b[0m\u001b[1;33m.\u001b[0m\u001b[0mindex\u001b[0m\u001b[1;33m.\u001b[0m\u001b[0mindex\u001b[0m\u001b[1;33m,\u001b[0m \u001b[1;34m'device_number'\u001b[0m\u001b[1;33m]\u001b[0m\u001b[1;33m)\u001b[0m\u001b[1;33m.\u001b[0m\u001b[0mcount\u001b[0m\u001b[1;33m(\u001b[0m\u001b[1;33m)\u001b[0m\u001b[1;33m.\u001b[0m\u001b[0mplot\u001b[0m\u001b[1;33m(\u001b[0m\u001b[0mkind\u001b[0m\u001b[1;33m=\u001b[0m\u001b[1;34m'bar'\u001b[0m\u001b[1;33m)\u001b[0m\u001b[1;33m\u001b[0m\u001b[1;33m\u001b[0m\u001b[0m\n\u001b[0m",
      "\u001b[1;31mAttributeError\u001b[0m: 'RangeIndex' object has no attribute 'index'"
     ]
    }
   ],
   "source": [
    "df.groupby([df.index, 'device_number']).count().plot(kind='bar')"
   ]
  },
  {
   "cell_type": "code",
   "execution_count": null,
   "id": "6351ca13",
   "metadata": {},
   "outputs": [],
   "source": []
  }
 ],
 "metadata": {
  "kernelspec": {
   "display_name": "Python 3",
   "language": "python",
   "name": "python3"
  },
  "language_info": {
   "codemirror_mode": {
    "name": "ipython",
    "version": 3
   },
   "file_extension": ".py",
   "mimetype": "text/x-python",
   "name": "python",
   "nbconvert_exporter": "python",
   "pygments_lexer": "ipython3",
   "version": "3.8.8"
  }
 },
 "nbformat": 4,
 "nbformat_minor": 5
}
