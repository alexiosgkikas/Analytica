{
 "cells": [
  {
   "cell_type": "code",
   "execution_count": 164,
   "id": "982b7044",
   "metadata": {},
   "outputs": [],
   "source": [
    "#LOAD LIBRARIES\n",
    "import pandas as pd\n",
    "import numpy as np\n",
    "from numpy import mean\n",
    "from numpy import std\n",
    "from matplotlib import pyplot"
   ]
  },
  {
   "cell_type": "code",
   "execution_count": 165,
   "id": "de96fd2b",
   "metadata": {
    "scrolled": true
   },
   "outputs": [
    {
     "name": "stdout",
     "output_type": "stream",
     "text": [
      "       device_address  temperature  message_sequence_number     timestamp  \\\n",
      "index                                                                       \n",
      "0          4278274346    18.445312                   214211  1.667776e+09   \n",
      "1               52495    13.500000                   277772  1.667776e+09   \n",
      "2          4278274346    18.445312                   214212  1.667776e+09   \n",
      "3          4278274346    18.445312                   214213  1.667776e+09   \n",
      "4               48553    11.875000                   196032  1.667776e+09   \n",
      "\n",
      "       light_level  \n",
      "index               \n",
      "0                0  \n",
      "1                0  \n",
      "2                0  \n",
      "3                0  \n",
      "4                0  \n",
      "   Unnamed: 0  device_address  colour  device_type type_temperature  \\\n",
      "0           0           48553      12            7           binnen   \n",
      "1           1      4278274346      48            7           binnen   \n",
      "2           2           52495      12            7           binnen   \n",
      "3           3      4278271304      48            7           binnen   \n",
      "4           4           48832      61            7           binnen   \n",
      "\n",
      "   resident_id  sensorset_id  subgroup_id  number_of_messages  \\\n",
      "0         5834      56857028          587                 413   \n",
      "1         5834      56857028          587                2162   \n",
      "2         5834      56857028          587                 242   \n",
      "3         5856      13517482          587                1965   \n",
      "4        24489      69293745          587                 411   \n",
      "\n",
      "   reference_beacon  \n",
      "0             False  \n",
      "1              True  \n",
      "2             False  \n",
      "3              True  \n",
      "4             False  \n"
     ]
    }
   ],
   "source": [
    "#LOAD dataset\n",
    "df1 = pd.read_csv(r'temperature_table.csv',index_col='index')\n",
    "print(df1.head(5))\n",
    "\n",
    "df2 = pd.read_csv(r'context_table.csv')\n",
    "print(df2.head(5))"
   ]
  },
  {
   "cell_type": "markdown",
   "id": "7e483818",
   "metadata": {},
   "source": [
    "### A Fisrt look  into the  dataset "
   ]
  },
  {
   "cell_type": "code",
   "execution_count": 166,
   "id": "65001102",
   "metadata": {
    "scrolled": true
   },
   "outputs": [
    {
     "name": "stdout",
     "output_type": "stream",
     "text": [
      "Is  there any null values inside the temperature table dataset? :  False\n",
      "Is  there any null values inside the context table dataset?   :  False\n",
      "Unique light_values:  124\n",
      "Min temp:  10.4375\n",
      "Max temp:  29.6875\n",
      "Number of unqiue devices:  739\n",
      "Number of unqiue type devices:  2\n",
      "Min observations for a device:  1\n",
      "MAx observations for a device:  7681\n"
     ]
    },
    {
     "data": {
      "image/png": "[encoded data removed]",
      "text/plain": [
       "<Figure size 432x288 with 1 Axes>"
      ]
     },
     "metadata": {
      "needs_background": "light"
     },
     "output_type": "display_data"
    }
   ],
   "source": [
    "#check if there is   any null values in the dataset\n",
    "print('Is  there any null values inside the temperature table dataset? : ',df1.isnull().values.any())\n",
    "print('Is  there any null values inside the context table dataset?   : ',df2.isnull().values.any())\n",
    "#check how many unique light levels \n",
    "print(\"Unique light_values: \", len(df1['light_level'].unique()))\n",
    "print(\"Min temp: \", df1['temperature'].min())\n",
    "print(\"Max temp: \", df1['temperature'].max())\n",
    "print(\"Number of unqiue devices: \",len(df2['device_address'].unique()))\n",
    "print(\"Number of unqiue type devices: \",len(df2['device_type'].unique()))\n",
    "print(\"Min observations for a device: \",df2['number_of_messages'].min())\n",
    "print(\"MAx observations for a device: \",df2['number_of_messages'].max())\n",
    "\n",
    "#check the distribution   between the number  of messages\n",
    "#df2.plot(x='device_address', y='number_of_messages', kind='bar')\n",
    "df2.hist(column='number_of_messages', bins=20);\n"
   ]
  },
  {
   "cell_type": "code",
   "execution_count": 167,
   "id": "5f652c91",
   "metadata": {},
   "outputs": [
    {
     "name": "stdout",
     "output_type": "stream",
     "text": [
      "Number of rows in dataset:  164698\n",
      "Number of devices:  164698\n",
      "Min datetime:  2022-11-06 23:00:04.224000\n",
      "Max datetime:  2022-11-09 22:59:43.403000064\n"
     ]
    },
    {
     "data": {
      "text/html": [
       "<div>\n",
       "<style scoped>\n",
       "    .dataframe tbody tr th:only-of-type {\n",
       "        vertical-align: middle;\n",
       "    }\n",
       "\n",
       "    .dataframe tbody tr th {\n",
       "        vertical-align: top;\n",
       "    }\n",
       "\n",
       "    .dataframe thead th {\n",
       "        text-align: right;\n",
       "    }\n",
       "</style>\n",
       "<table border=\"1\" class=\"dataframe\">\n",
       "  <thead>\n",
       "    <tr style=\"text-align: right;\">\n",
       "      <th></th>\n",
       "      <th>device_address</th>\n",
       "      <th>temperature</th>\n",
       "      <th>message_sequence_number</th>\n",
       "      <th>timestamp</th>\n",
       "      <th>light_level</th>\n",
       "      <th>Unnamed: 0</th>\n",
       "      <th>colour</th>\n",
       "      <th>device_type</th>\n",
       "      <th>type_temperature</th>\n",
       "      <th>resident_id</th>\n",
       "      <th>sensorset_id</th>\n",
       "      <th>subgroup_id</th>\n",
       "      <th>number_of_messages</th>\n",
       "      <th>reference_beacon</th>\n",
       "    </tr>\n",
       "  </thead>\n",
       "  <tbody>\n",
       "    <tr>\n",
       "      <th>0</th>\n",
       "      <td>49278</td>\n",
       "      <td>16.4</td>\n",
       "      <td>590810</td>\n",
       "      <td>2022-11-06 23:02:47.986000128</td>\n",
       "      <td>0</td>\n",
       "      <td>9</td>\n",
       "      <td>47</td>\n",
       "      <td>0</td>\n",
       "      <td>binnen</td>\n",
       "      <td>24489</td>\n",
       "      <td>69293745</td>\n",
       "      <td>587</td>\n",
       "      <td>999</td>\n",
       "      <td>False</td>\n",
       "    </tr>\n",
       "    <tr>\n",
       "      <th>1</th>\n",
       "      <td>49278</td>\n",
       "      <td>16.4</td>\n",
       "      <td>590811</td>\n",
       "      <td>2022-11-06 23:07:07.600009984</td>\n",
       "      <td>0</td>\n",
       "      <td>9</td>\n",
       "      <td>47</td>\n",
       "      <td>0</td>\n",
       "      <td>binnen</td>\n",
       "      <td>24489</td>\n",
       "      <td>69293745</td>\n",
       "      <td>587</td>\n",
       "      <td>999</td>\n",
       "      <td>False</td>\n",
       "    </tr>\n",
       "    <tr>\n",
       "      <th>2</th>\n",
       "      <td>49278</td>\n",
       "      <td>16.4</td>\n",
       "      <td>590812</td>\n",
       "      <td>2022-11-06 23:11:26.935000064</td>\n",
       "      <td>0</td>\n",
       "      <td>9</td>\n",
       "      <td>47</td>\n",
       "      <td>0</td>\n",
       "      <td>binnen</td>\n",
       "      <td>24489</td>\n",
       "      <td>69293745</td>\n",
       "      <td>587</td>\n",
       "      <td>999</td>\n",
       "      <td>False</td>\n",
       "    </tr>\n",
       "    <tr>\n",
       "      <th>3</th>\n",
       "      <td>49278</td>\n",
       "      <td>16.5</td>\n",
       "      <td>590813</td>\n",
       "      <td>2022-11-06 23:15:46.467000064</td>\n",
       "      <td>0</td>\n",
       "      <td>9</td>\n",
       "      <td>47</td>\n",
       "      <td>0</td>\n",
       "      <td>binnen</td>\n",
       "      <td>24489</td>\n",
       "      <td>69293745</td>\n",
       "      <td>587</td>\n",
       "      <td>999</td>\n",
       "      <td>False</td>\n",
       "    </tr>\n",
       "    <tr>\n",
       "      <th>4</th>\n",
       "      <td>49278</td>\n",
       "      <td>16.5</td>\n",
       "      <td>590814</td>\n",
       "      <td>2022-11-06 23:20:05.977999872</td>\n",
       "      <td>0</td>\n",
       "      <td>9</td>\n",
       "      <td>47</td>\n",
       "      <td>0</td>\n",
       "      <td>binnen</td>\n",
       "      <td>24489</td>\n",
       "      <td>69293745</td>\n",
       "      <td>587</td>\n",
       "      <td>999</td>\n",
       "      <td>False</td>\n",
       "    </tr>\n",
       "  </tbody>\n",
       "</table>\n",
       "</div>"
      ],
      "text/plain": [
       "   device_address  temperature  message_sequence_number  \\\n",
       "0           49278         16.4                   590810   \n",
       "1           49278         16.4                   590811   \n",
       "2           49278         16.4                   590812   \n",
       "3           49278         16.5                   590813   \n",
       "4           49278         16.5                   590814   \n",
       "\n",
       "                      timestamp  light_level  Unnamed: 0  colour  device_type  \\\n",
       "0 2022-11-06 23:02:47.986000128            0           9      47            0   \n",
       "1 2022-11-06 23:07:07.600009984            0           9      47            0   \n",
       "2 2022-11-06 23:11:26.935000064            0           9      47            0   \n",
       "3 2022-11-06 23:15:46.467000064            0           9      47            0   \n",
       "4 2022-11-06 23:20:05.977999872            0           9      47            0   \n",
       "\n",
       "  type_temperature  resident_id  sensorset_id  subgroup_id  \\\n",
       "0           binnen        24489      69293745          587   \n",
       "1           binnen        24489      69293745          587   \n",
       "2           binnen        24489      69293745          587   \n",
       "3           binnen        24489      69293745          587   \n",
       "4           binnen        24489      69293745          587   \n",
       "\n",
       "   number_of_messages  reference_beacon  \n",
       "0                 999             False  \n",
       "1                 999             False  \n",
       "2                 999             False  \n",
       "3                 999             False  \n",
       "4                 999             False  "
      ]
     },
     "execution_count": 167,
     "metadata": {},
     "output_type": "execute_result"
    }
   ],
   "source": [
    "#keep only locations with enough observations\n",
    "min_obsrv  = 900\n",
    "max_obsrv  = 1100\n",
    "df2 = df2.loc[df2['number_of_messages'] > min_obsrv]\n",
    "df2 = df2.loc[df2['number_of_messages'] < max_obsrv]\n",
    "dataset = pd.merge(df1, df2, on='device_address')\n",
    "print('Number of rows in dataset: ',len(dataset.index))\n",
    "print('Number of devices: ',len(dataset.index))\n",
    "#convert timestamp to date\n",
    "dataset['timestamp'] = pd.to_datetime(dataset['timestamp'],unit='s')\n",
    "print(\"Min datetime: \", dataset['timestamp'].min())\n",
    "print(\"Max datetime: \", dataset['timestamp'].max())\n",
    "\n",
    "#convert temperature with one demical \n",
    "dataset = dataset.round(1)\n",
    "dataset.head(5)"
   ]
  },
  {
   "cell_type": "code",
   "execution_count": 168,
   "id": "1b652d83",
   "metadata": {},
   "outputs": [
    {
     "name": "stdout",
     "output_type": "stream",
     "text": [
      "Check correlation between the temperature  0.13453520187388948\n"
     ]
    },
    {
     "data": {
      "text/plain": [
       "resident_id\n",
       "5858     AxesSubplot(0.125,0.2;0.775x0.68)\n",
       "5861     AxesSubplot(0.125,0.2;0.775x0.68)\n",
       "5862     AxesSubplot(0.125,0.2;0.775x0.68)\n",
       "5874     AxesSubplot(0.125,0.2;0.775x0.68)\n",
       "5884     AxesSubplot(0.125,0.2;0.775x0.68)\n",
       "                       ...                \n",
       "27510    AxesSubplot(0.125,0.2;0.775x0.68)\n",
       "27511    AxesSubplot(0.125,0.2;0.775x0.68)\n",
       "27539    AxesSubplot(0.125,0.2;0.775x0.68)\n",
       "27569    AxesSubplot(0.125,0.2;0.775x0.68)\n",
       "27664    AxesSubplot(0.125,0.2;0.775x0.68)\n",
       "Name: temperature, Length: 74, dtype: object"
      ]
     },
     "execution_count": 168,
     "metadata": {},
     "output_type": "execute_result"
    },
    {
     "data": {
      "image/png": "[encoded data removed]",
      "text/plain": [
       "<Figure size 432x288 with 1 Axes>"
      ]
     },
     "metadata": {
      "needs_background": "light"
     },
     "output_type": "display_data"
    }
   ],
   "source": [
    "# pivot the data into the correct shape\n",
    "#df3 = dataset.pivot(index='device_address', columns='color', values='temperature')\n",
    "#df.plot(color=df.columns, figsize=(5, 3))\n",
    "print(\"Check correlation between the temperature \",dataset['temperature'].corr(dataset['light_level']))\n",
    "dataset.set_index('timestamp', inplace=True)\n",
    "\n",
    "#group data by product and display sales as line chart\n",
    "dataset.groupby('resident_id')['temperature'].plot()"
   ]
  },
  {
   "cell_type": "code",
   "execution_count": null,
   "id": "f7ec80c2",
   "metadata": {},
   "outputs": [],
   "source": []
  }
 ],
 "metadata": {
  "kernelspec": {
   "display_name": "Python 3",
   "language": "python",
   "name": "python3"
  },
  "language_info": {
   "codemirror_mode": {
    "name": "ipython",
    "version": 3
   },
   "file_extension": ".py",
   "mimetype": "text/x-python",
   "name": "python",
   "nbconvert_exporter": "python",
   "pygments_lexer": "ipython3",
   "version": "3.8.8"
  }
 },
 "nbformat": 4,
 "nbformat_minor": 5
}
